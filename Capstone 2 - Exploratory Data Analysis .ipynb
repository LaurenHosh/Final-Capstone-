{
 "cells": [
  {
   "cell_type": "code",
   "execution_count": 1,
   "id": "010703f1",
   "metadata": {},
   "outputs": [],
   "source": [
    "import pandas as pd \n",
    "import numpy as np \n",
    "import matplotlib.pyplot as plt\n",
    "import seaborn as sns "
   ]
  },
  {
   "cell_type": "code",
   "execution_count": 2,
   "id": "9f29ae2b",
   "metadata": {},
   "outputs": [
    {
     "data": {
      "text/html": [
       "<div>\n",
       "<style scoped>\n",
       "    .dataframe tbody tr th:only-of-type {\n",
       "        vertical-align: middle;\n",
       "    }\n",
       "\n",
       "    .dataframe tbody tr th {\n",
       "        vertical-align: top;\n",
       "    }\n",
       "\n",
       "    .dataframe thead th {\n",
       "        text-align: right;\n",
       "    }\n",
       "</style>\n",
       "<table border=\"1\" class=\"dataframe\">\n",
       "  <thead>\n",
       "    <tr style=\"text-align: right;\">\n",
       "      <th></th>\n",
       "      <th>Date</th>\n",
       "      <th>State</th>\n",
       "      <th>Cases</th>\n",
       "      <th>Deaths</th>\n",
       "      <th>Percent African American</th>\n",
       "      <th>Percent American Indian And Alaska Native</th>\n",
       "      <th>Percent Asian</th>\n",
       "      <th>Percent Native Hawaiian And Other Pacific Islander</th>\n",
       "      <th>Percent Two Or More Races</th>\n",
       "      <th>Percent Hispanic Or Latino</th>\n",
       "      <th>Percent White Not Hispanic Or Latino</th>\n",
       "      <th>Median Household Income</th>\n",
       "      <th>Percent Persons Below Poverty Level</th>\n",
       "    </tr>\n",
       "  </thead>\n",
       "  <tbody>\n",
       "    <tr>\n",
       "      <th>0</th>\n",
       "      <td>2022-09-24</td>\n",
       "      <td>Alabama</td>\n",
       "      <td>1517904</td>\n",
       "      <td>20395</td>\n",
       "      <td>26.8</td>\n",
       "      <td>0.7</td>\n",
       "      <td>1.5</td>\n",
       "      <td>0.1</td>\n",
       "      <td>1.8</td>\n",
       "      <td>4.6</td>\n",
       "      <td>65.3</td>\n",
       "      <td>50536.0</td>\n",
       "      <td>15.5</td>\n",
       "    </tr>\n",
       "    <tr>\n",
       "      <th>1</th>\n",
       "      <td>2022-09-24</td>\n",
       "      <td>Alaska</td>\n",
       "      <td>303559</td>\n",
       "      <td>1321</td>\n",
       "      <td>3.7</td>\n",
       "      <td>15.6</td>\n",
       "      <td>6.5</td>\n",
       "      <td>1.4</td>\n",
       "      <td>7.5</td>\n",
       "      <td>7.3</td>\n",
       "      <td>60.2</td>\n",
       "      <td>77640.0</td>\n",
       "      <td>10.1</td>\n",
       "    </tr>\n",
       "    <tr>\n",
       "      <th>3</th>\n",
       "      <td>2022-09-24</td>\n",
       "      <td>Arizona</td>\n",
       "      <td>2268158</td>\n",
       "      <td>31326</td>\n",
       "      <td>5.2</td>\n",
       "      <td>5.3</td>\n",
       "      <td>3.7</td>\n",
       "      <td>0.3</td>\n",
       "      <td>2.9</td>\n",
       "      <td>31.7</td>\n",
       "      <td>54.1</td>\n",
       "      <td>58945.0</td>\n",
       "      <td>13.5</td>\n",
       "    </tr>\n",
       "    <tr>\n",
       "      <th>4</th>\n",
       "      <td>2022-09-24</td>\n",
       "      <td>Arkansas</td>\n",
       "      <td>949582</td>\n",
       "      <td>12080</td>\n",
       "      <td>15.7</td>\n",
       "      <td>1.0</td>\n",
       "      <td>1.7</td>\n",
       "      <td>0.4</td>\n",
       "      <td>2.2</td>\n",
       "      <td>7.8</td>\n",
       "      <td>72.0</td>\n",
       "      <td>47597.0</td>\n",
       "      <td>16.2</td>\n",
       "    </tr>\n",
       "    <tr>\n",
       "      <th>5</th>\n",
       "      <td>2022-09-24</td>\n",
       "      <td>California</td>\n",
       "      <td>11230511</td>\n",
       "      <td>95896</td>\n",
       "      <td>6.5</td>\n",
       "      <td>1.6</td>\n",
       "      <td>15.5</td>\n",
       "      <td>0.5</td>\n",
       "      <td>4.0</td>\n",
       "      <td>39.4</td>\n",
       "      <td>36.5</td>\n",
       "      <td>75235.0</td>\n",
       "      <td>11.8</td>\n",
       "    </tr>\n",
       "  </tbody>\n",
       "</table>\n",
       "</div>"
      ],
      "text/plain": [
       "         Date       State     Cases  Deaths  Percent African American  \\\n",
       "0  2022-09-24     Alabama   1517904   20395                      26.8   \n",
       "1  2022-09-24      Alaska    303559    1321                       3.7   \n",
       "3  2022-09-24     Arizona   2268158   31326                       5.2   \n",
       "4  2022-09-24    Arkansas    949582   12080                      15.7   \n",
       "5  2022-09-24  California  11230511   95896                       6.5   \n",
       "\n",
       "   Percent American Indian And Alaska Native  Percent Asian  \\\n",
       "0                                        0.7            1.5   \n",
       "1                                       15.6            6.5   \n",
       "3                                        5.3            3.7   \n",
       "4                                        1.0            1.7   \n",
       "5                                        1.6           15.5   \n",
       "\n",
       "   Percent Native Hawaiian And Other Pacific Islander  \\\n",
       "0                                                0.1    \n",
       "1                                                1.4    \n",
       "3                                                0.3    \n",
       "4                                                0.4    \n",
       "5                                                0.5    \n",
       "\n",
       "   Percent Two Or More Races  Percent Hispanic Or Latino  \\\n",
       "0                        1.8                         4.6   \n",
       "1                        7.5                         7.3   \n",
       "3                        2.9                        31.7   \n",
       "4                        2.2                         7.8   \n",
       "5                        4.0                        39.4   \n",
       "\n",
       "   Percent White Not Hispanic Or Latino  Median Household Income  \\\n",
       "0                                  65.3                  50536.0   \n",
       "1                                  60.2                  77640.0   \n",
       "3                                  54.1                  58945.0   \n",
       "4                                  72.0                  47597.0   \n",
       "5                                  36.5                  75235.0   \n",
       "\n",
       "   Percent Persons Below Poverty Level  \n",
       "0                                 15.5  \n",
       "1                                 10.1  \n",
       "3                                 13.5  \n",
       "4                                 16.2  \n",
       "5                                 11.8  "
      ]
     },
     "execution_count": 2,
     "metadata": {},
     "output_type": "execute_result"
    }
   ],
   "source": [
    "df = pd.read_csv('capstone2_df.csv', index_col=[0]) \n",
    "CA_df = pd.read_csv('CA_deaths_data.csv', index_col=[0])\n",
    "CA_months = pd.read_csv('CA_bymonth.csv', index_col=[0])\n",
    "df.head(5)"
   ]
  },
  {
   "cell_type": "code",
   "execution_count": 3,
   "id": "4f4c0b6d",
   "metadata": {},
   "outputs": [
    {
     "data": {
      "text/plain": [
       "Date                                                   object\n",
       "State                                                  object\n",
       "Cases                                                   int64\n",
       "Deaths                                                  int64\n",
       "Percent African American                              float64\n",
       "Percent American Indian And Alaska Native             float64\n",
       "Percent Asian                                         float64\n",
       "Percent Native Hawaiian And Other Pacific Islander    float64\n",
       "Percent Two Or More Races                             float64\n",
       "Percent Hispanic Or Latino                            float64\n",
       "Percent White Not Hispanic Or Latino                  float64\n",
       "Median Household Income                               float64\n",
       "Percent Persons Below Poverty Level                   float64\n",
       "dtype: object"
      ]
     },
     "execution_count": 3,
     "metadata": {},
     "output_type": "execute_result"
    }
   ],
   "source": [
    "df.dtypes"
   ]
  },
  {
   "cell_type": "code",
   "execution_count": 29,
   "id": "91bc9eb9",
   "metadata": {},
   "outputs": [
    {
     "data": {
      "text/plain": [
       "50"
      ]
     },
     "execution_count": 29,
     "metadata": {},
     "output_type": "execute_result"
    }
   ],
   "source": [
    " df.isna().sum().sum()"
   ]
  },
  {
   "cell_type": "code",
   "execution_count": 5,
   "id": "f175c123",
   "metadata": {},
   "outputs": [
    {
     "data": {
      "image/png": "[encoded data removed]",
      "text/plain": [
       "<Figure size 432x288 with 1 Axes>"
      ]
     },
     "metadata": {
      "needs_background": "light"
     },
     "output_type": "display_data"
    }
   ],
   "source": [
    "plt.bar(df['State'], df['Deaths'], align='center', alpha=1)\n",
    "plt.ylabel('Deaths')\n",
    "plt.xlabel('State')\n",
    "plt.title('COVID-19 Deaths per State')\n",
    "plt.tick_params(axis='x', labelsize=6)\n",
    "plt.xticks(rotation=90, ha='right')\n",
    "plt.show()"
   ]
  },
  {
   "cell_type": "code",
   "execution_count": 6,
   "id": "52d28c6f",
   "metadata": {},
   "outputs": [
    {
     "data": {
      "image/png": "[encoded data removed]",
      "text/plain": [
       "<Figure size 432x288 with 1 Axes>"
      ]
     },
     "metadata": {
      "needs_background": "light"
     },
     "output_type": "display_data"
    }
   ],
   "source": [
    "#CA_months.head()\n",
    "plt.plot(CA_months['month_year'],CA_months['deaths_by_day'])\n",
    "plt.xticks(rotation=90)\n",
    "plt.show()\n",
    "#two highest peaks were in the first three months of 2021 and 2022"
   ]
  },
  {
   "cell_type": "code",
   "execution_count": 7,
   "id": "e770fac0",
   "metadata": {},
   "outputs": [
    {
     "data": {
      "text/plain": [
       "month_year       2021-01-01\n",
       "deaths_by_day       14963.0\n",
       "Name: 12, dtype: object"
      ]
     },
     "execution_count": 7,
     "metadata": {},
     "output_type": "execute_result"
    }
   ],
   "source": [
    "#find month/year with peak deaths\n",
    "CA_months.iloc[CA_months['deaths_by_day'].idxmax()]"
   ]
  },
  {
   "cell_type": "code",
   "execution_count": 8,
   "id": "9ce602c5",
   "metadata": {},
   "outputs": [
    {
     "data": {
      "text/html": [
       "<div>\n",
       "<style scoped>\n",
       "    .dataframe tbody tr th:only-of-type {\n",
       "        vertical-align: middle;\n",
       "    }\n",
       "\n",
       "    .dataframe tbody tr th {\n",
       "        vertical-align: top;\n",
       "    }\n",
       "\n",
       "    .dataframe thead th {\n",
       "        text-align: right;\n",
       "    }\n",
       "</style>\n",
       "<table border=\"1\" class=\"dataframe\">\n",
       "  <thead>\n",
       "    <tr style=\"text-align: right;\">\n",
       "      <th></th>\n",
       "      <th>month_year</th>\n",
       "      <th>deaths_by_day</th>\n",
       "    </tr>\n",
       "  </thead>\n",
       "  <tbody>\n",
       "    <tr>\n",
       "      <th>12</th>\n",
       "      <td>2021-01-01</td>\n",
       "      <td>14963.0</td>\n",
       "    </tr>\n",
       "    <tr>\n",
       "      <th>13</th>\n",
       "      <td>2021-02-01</td>\n",
       "      <td>11285.0</td>\n",
       "    </tr>\n",
       "    <tr>\n",
       "      <th>14</th>\n",
       "      <td>2021-03-01</td>\n",
       "      <td>7047.0</td>\n",
       "    </tr>\n",
       "    <tr>\n",
       "      <th>11</th>\n",
       "      <td>2020-12-01</td>\n",
       "      <td>6756.0</td>\n",
       "    </tr>\n",
       "    <tr>\n",
       "      <th>25</th>\n",
       "      <td>2022-02-01</td>\n",
       "      <td>5297.0</td>\n",
       "    </tr>\n",
       "    <tr>\n",
       "      <th>7</th>\n",
       "      <td>2020-08-01</td>\n",
       "      <td>3798.0</td>\n",
       "    </tr>\n",
       "    <tr>\n",
       "      <th>24</th>\n",
       "      <td>2022-01-01</td>\n",
       "      <td>3558.0</td>\n",
       "    </tr>\n",
       "    <tr>\n",
       "      <th>26</th>\n",
       "      <td>2022-03-01</td>\n",
       "      <td>3454.0</td>\n",
       "    </tr>\n",
       "    <tr>\n",
       "      <th>20</th>\n",
       "      <td>2021-09-01</td>\n",
       "      <td>3415.0</td>\n",
       "    </tr>\n",
       "    <tr>\n",
       "      <th>6</th>\n",
       "      <td>2020-07-01</td>\n",
       "      <td>3139.0</td>\n",
       "    </tr>\n",
       "    <tr>\n",
       "      <th>8</th>\n",
       "      <td>2020-09-01</td>\n",
       "      <td>2878.0</td>\n",
       "    </tr>\n",
       "    <tr>\n",
       "      <th>21</th>\n",
       "      <td>2021-10-01</td>\n",
       "      <td>2862.0</td>\n",
       "    </tr>\n",
       "    <tr>\n",
       "      <th>22</th>\n",
       "      <td>2021-11-01</td>\n",
       "      <td>2530.0</td>\n",
       "    </tr>\n",
       "    <tr>\n",
       "      <th>15</th>\n",
       "      <td>2021-04-01</td>\n",
       "      <td>2496.0</td>\n",
       "    </tr>\n",
       "    <tr>\n",
       "      <th>4</th>\n",
       "      <td>2020-05-01</td>\n",
       "      <td>2185.0</td>\n",
       "    </tr>\n",
       "    <tr>\n",
       "      <th>23</th>\n",
       "      <td>2021-12-01</td>\n",
       "      <td>2039.0</td>\n",
       "    </tr>\n",
       "    <tr>\n",
       "      <th>3</th>\n",
       "      <td>2020-04-01</td>\n",
       "      <td>1873.0</td>\n",
       "    </tr>\n",
       "    <tr>\n",
       "      <th>5</th>\n",
       "      <td>2020-06-01</td>\n",
       "      <td>1841.0</td>\n",
       "    </tr>\n",
       "    <tr>\n",
       "      <th>9</th>\n",
       "      <td>2020-10-01</td>\n",
       "      <td>1763.0</td>\n",
       "    </tr>\n",
       "    <tr>\n",
       "      <th>10</th>\n",
       "      <td>2020-11-01</td>\n",
       "      <td>1548.0</td>\n",
       "    </tr>\n",
       "    <tr>\n",
       "      <th>16</th>\n",
       "      <td>2021-05-01</td>\n",
       "      <td>1493.0</td>\n",
       "    </tr>\n",
       "    <tr>\n",
       "      <th>19</th>\n",
       "      <td>2021-08-01</td>\n",
       "      <td>1446.0</td>\n",
       "    </tr>\n",
       "    <tr>\n",
       "      <th>27</th>\n",
       "      <td>2022-04-01</td>\n",
       "      <td>1401.0</td>\n",
       "    </tr>\n",
       "    <tr>\n",
       "      <th>31</th>\n",
       "      <td>2022-08-01</td>\n",
       "      <td>1388.0</td>\n",
       "    </tr>\n",
       "    <tr>\n",
       "      <th>30</th>\n",
       "      <td>2022-07-01</td>\n",
       "      <td>1195.0</td>\n",
       "    </tr>\n",
       "    <tr>\n",
       "      <th>28</th>\n",
       "      <td>2022-05-01</td>\n",
       "      <td>1070.0</td>\n",
       "    </tr>\n",
       "    <tr>\n",
       "      <th>29</th>\n",
       "      <td>2022-06-01</td>\n",
       "      <td>929.0</td>\n",
       "    </tr>\n",
       "    <tr>\n",
       "      <th>32</th>\n",
       "      <td>2022-09-01</td>\n",
       "      <td>895.0</td>\n",
       "    </tr>\n",
       "    <tr>\n",
       "      <th>18</th>\n",
       "      <td>2021-07-01</td>\n",
       "      <td>755.0</td>\n",
       "    </tr>\n",
       "    <tr>\n",
       "      <th>17</th>\n",
       "      <td>2021-06-01</td>\n",
       "      <td>413.0</td>\n",
       "    </tr>\n",
       "    <tr>\n",
       "      <th>2</th>\n",
       "      <td>2020-03-01</td>\n",
       "      <td>184.0</td>\n",
       "    </tr>\n",
       "    <tr>\n",
       "      <th>1</th>\n",
       "      <td>2020-02-01</td>\n",
       "      <td>0.0</td>\n",
       "    </tr>\n",
       "    <tr>\n",
       "      <th>0</th>\n",
       "      <td>2020-01-01</td>\n",
       "      <td>0.0</td>\n",
       "    </tr>\n",
       "  </tbody>\n",
       "</table>\n",
       "</div>"
      ],
      "text/plain": [
       "    month_year  deaths_by_day\n",
       "12  2021-01-01        14963.0\n",
       "13  2021-02-01        11285.0\n",
       "14  2021-03-01         7047.0\n",
       "11  2020-12-01         6756.0\n",
       "25  2022-02-01         5297.0\n",
       "7   2020-08-01         3798.0\n",
       "24  2022-01-01         3558.0\n",
       "26  2022-03-01         3454.0\n",
       "20  2021-09-01         3415.0\n",
       "6   2020-07-01         3139.0\n",
       "8   2020-09-01         2878.0\n",
       "21  2021-10-01         2862.0\n",
       "22  2021-11-01         2530.0\n",
       "15  2021-04-01         2496.0\n",
       "4   2020-05-01         2185.0\n",
       "23  2021-12-01         2039.0\n",
       "3   2020-04-01         1873.0\n",
       "5   2020-06-01         1841.0\n",
       "9   2020-10-01         1763.0\n",
       "10  2020-11-01         1548.0\n",
       "16  2021-05-01         1493.0\n",
       "19  2021-08-01         1446.0\n",
       "27  2022-04-01         1401.0\n",
       "31  2022-08-01         1388.0\n",
       "30  2022-07-01         1195.0\n",
       "28  2022-05-01         1070.0\n",
       "29  2022-06-01          929.0\n",
       "32  2022-09-01          895.0\n",
       "18  2021-07-01          755.0\n",
       "17  2021-06-01          413.0\n",
       "2   2020-03-01          184.0\n",
       "1   2020-02-01            0.0\n",
       "0   2020-01-01            0.0"
      ]
     },
     "execution_count": 8,
     "metadata": {},
     "output_type": "execute_result"
    }
   ],
   "source": [
    "#find top 5 month/year with peak deaths \n",
    "CA_months.sort_values('deaths_by_day',ascending=False)\n",
    "#top 3 deaths by month were in the beginning of 2021... what events could have led to this?"
   ]
  },
  {
   "cell_type": "code",
   "execution_count": 23,
   "id": "bc0e8fe5",
   "metadata": {},
   "outputs": [
    {
     "data": {
      "text/plain": [
       "<AxesSubplot:>"
      ]
     },
     "execution_count": 23,
     "metadata": {},
     "output_type": "execute_result"
    },
    {
     "data": {
      "image/png": "[encoded data removed]",
      "text/plain": [
       "<Figure size 432x288 with 2 Axes>"
      ]
     },
     "metadata": {
      "needs_background": "light"
     },
     "output_type": "display_data"
    }
   ],
   "source": [
    "#investigate correlation between macroeconomic/demographic features/deaths\n",
    "cor_map_df = df.loc[:, ~df.columns.isin(['Date', 'State','Cases'])]\n",
    "cor_map_deaths = cor_map_df.corr()\n",
    "round(cor_map_deaths, 2)\n",
    "sns.heatmap(cor_map_deaths)"
   ]
  },
  {
   "cell_type": "code",
   "execution_count": 35,
   "id": "e6fb8b01",
   "metadata": {},
   "outputs": [
    {
     "ename": "TypeError",
     "evalue": "'method' object is not subscriptable",
     "output_type": "error",
     "traceback": [
      "\u001b[1;31m---------------------------------------------------------------------------\u001b[0m",
      "\u001b[1;31mTypeError\u001b[0m                                 Traceback (most recent call last)",
      "Input \u001b[1;32mIn [35]\u001b[0m, in \u001b[0;36m<cell line: 5>\u001b[1;34m()\u001b[0m\n\u001b[0;32m      2\u001b[0m \u001b[38;5;28;01mfrom\u001b[39;00m \u001b[38;5;21;01msklearn\u001b[39;00m\u001b[38;5;21;01m.\u001b[39;00m\u001b[38;5;21;01mdecomposition\u001b[39;00m \u001b[38;5;28;01mimport\u001b[39;00m PCA\n\u001b[0;32m      3\u001b[0m \u001b[38;5;28;01mfrom\u001b[39;00m \u001b[38;5;21;01msklearn\u001b[39;00m\u001b[38;5;21;01m.\u001b[39;00m\u001b[38;5;21;01mcluster\u001b[39;00m \u001b[38;5;28;01mimport\u001b[39;00m KMeans\n\u001b[1;32m----> 5\u001b[0m df[\u001b[38;5;124m'\u001b[39m\u001b[38;5;124mState\u001b[39m\u001b[38;5;124m'\u001b[39m]\u001b[38;5;241m=\u001b[39m\u001b[43mdf\u001b[49m\u001b[43m[\u001b[49m\u001b[38;5;124;43m'\u001b[39;49m\u001b[38;5;124;43mState\u001b[39;49m\u001b[38;5;124;43m'\u001b[39;49m\u001b[43m]\u001b[49m\u001b[38;5;241m.\u001b[39mreplace(\u001b[38;5;124m'\u001b[39m\u001b[38;5;124m'\u001b[39m,np\u001b[38;5;241m.\u001b[39mnan)\u001b[38;5;241m.\u001b[39mastype(\u001b[38;5;28mfloat\u001b[39m)\n\u001b[0;32m      6\u001b[0m df \u001b[38;5;241m=\u001b[39m df\u001b[38;5;241m.\u001b[39mfillna(\u001b[38;5;241m0\u001b[39m)\n\u001b[0;32m      8\u001b[0m kmeans \u001b[38;5;241m=\u001b[39m KMeans(n_clusters\u001b[38;5;241m=\u001b[39m\u001b[38;5;241m3\u001b[39m, random_state\u001b[38;5;241m=\u001b[39m\u001b[38;5;241m0\u001b[39m)\n",
      "\u001b[1;31mTypeError\u001b[0m: 'method' object is not subscriptable"
     ]
    }
   ],
   "source": [
    "from sklearn.datasets import load_digits\n",
    "from sklearn.decomposition import PCA\n",
    "from sklearn.cluster import KMeans\n",
    "\n",
    "df['State']=df['State'].replace('',np.nan).astype(float)\n",
    "df = df.fillna(0)\n",
    "\n",
    "kmeans = KMeans(n_clusters=3, random_state=0)\n",
    "df['cluster'] = kmeans.fit_predict(df[['State', 'Deaths']])\n",
    "centroids = kmeans.cluster_centers_\n",
    "cen_x = [i[0] for i in centroids] \n",
    "cen_y = [i[1] for i in centroids]\n",
    "## add to df\n",
    "df['cen_x'] = df.cluster.map({0:cen_x[0], 1:cen_x[1], 2:cen_x[2]})\n",
    "df['cen_y'] = df.cluster.map({0:cen_y[0], 1:cen_y[1], 2:cen_y[2]})\n",
    "colors = ['#DF2020', '#81DF20', '#2095DF']\n",
    "df['c'] = df.cluster.map({0:colors[0], 1:colors[1], 2:colors[2]})\n",
    "\n",
    "plt.scatter(df.State, df.Deaths, c=df.c, alpha = 0.6, s=10)"
   ]
  },
  {
   "cell_type": "code",
   "execution_count": null,
   "id": "143dbc07",
   "metadata": {},
   "outputs": [],
   "source": [
    "#use lasso from scikitlearn to see feature with larget coefficient"
   ]
  },
  {
   "cell_type": "code",
   "execution_count": null,
   "id": "abdd3362",
   "metadata": {},
   "outputs": [],
   "source": []
  }
 ],
 "metadata": {
  "kernelspec": {
   "display_name": "Python 3 (ipykernel)",
   "language": "python",
   "name": "python3"
  },
  "language_info": {
   "codemirror_mode": {
    "name": "ipython",
    "version": 3
   },
   "file_extension": ".py",
   "mimetype": "text/x-python",
   "name": "python",
   "nbconvert_exporter": "python",
   "pygments_lexer": "ipython3",
   "version": "3.9.12"
  }
 },
 "nbformat": 4,
 "nbformat_minor": 5
}
