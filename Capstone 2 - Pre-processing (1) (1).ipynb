{
 "cells": [
  {
   "cell_type": "code",
   "execution_count": 41,
   "id": "b0416e54",
   "metadata": {},
   "outputs": [],
   "source": [
    "import numpy as np\n",
    "import pandas as pd\n",
    "from matplotlib import pyplot as plt\n",
    "from sklearn.metrics import confusion_matrix\n",
    "from sklearn.neighbors import KNeighborsClassifier\n",
    "from sklearn.model_selection import train_test_split\n",
    "import seaborn as sns"
   ]
  },
  {
   "cell_type": "code",
   "execution_count": 42,
   "id": "e4a7f859",
   "metadata": {},
   "outputs": [],
   "source": [
    "deaths_summed = pd.read_csv('total_deaths_perstate.csv',index_col=[0])\n",
    "deaths_summed = deaths_summed[['State','Deaths']]\n",
    "\n",
    "deaths_bydate = pd.read_csv('all_deaths_total.csv', index_col=[0]) \n",
    "deaths_bydate.columns = deaths_bydate.columns.str.capitalize()\n",
    "deaths_bydate = deaths_bydate[['State','Deaths']]\n",
    "\n",
    "macro =  pd.read_csv('macro_df.csv', index_col=[0])\n",
    "macro = macro[['State','Percent Hispanic Or Latino','Percent White Not Hispanic Or Latino','Median Household Income']]\n",
    "\n",
    "health = pd.read_csv('health.csv',index_col=[0])\n",
    "health.rename(index={'State Name':'State'},inplace=True)\n",
    "\n",
    "pop = pd.read_csv('state_pop_2021.csv', index_col=[0])\n",
    "pop.columns = pop.columns.str.capitalize()\n",
    "\n",
    "#print(deaths_summed.head())\n",
    "#print(deaths_bydate.head())\n",
    "#print(macro.head())\n",
    "#print(health.head())\n",
    "#print(pop.head())"
   ]
  },
  {
   "cell_type": "code",
   "execution_count": 43,
   "id": "4398763a",
   "metadata": {},
   "outputs": [],
   "source": [
    "#print(health.index)\n",
    "health['State'] = health.index"
   ]
  },
  {
   "cell_type": "code",
   "execution_count": 44,
   "id": "15c59ce4",
   "metadata": {},
   "outputs": [
    {
     "name": "stdout",
     "output_type": "stream",
     "text": [
      "        State  Deaths  Access to Care - AnnualRank  \\\n",
      "0     Alabama   20505                         45.0   \n",
      "1      Alaska    1350                         20.0   \n",
      "2     Arizona   31455                         42.0   \n",
      "3    Arkansas   12347                         43.0   \n",
      "4  California   96442                         18.0   \n",
      "\n",
      "   Adverse Childhood ExperiencesRank  Air PollutionRank  \\\n",
      "0                               30.0               33.0   \n",
      "1                               44.0               16.0   \n",
      "2                               35.0               46.0   \n",
      "3                               48.0               23.0   \n",
      "4                                9.0               50.0   \n",
      "\n",
      "   Air and Water Quality - AnnualRank  All Determinants - AnnualRank  \\\n",
      "0                                29.0                           45.0   \n",
      "1                                43.0                           31.0   \n",
      "2                                41.0                           32.0   \n",
      "3                                19.0                           48.0   \n",
      "4                                46.0                           28.0   \n",
      "\n",
      "   ArthritisRank  AsthmaRank  Avoided Care Due to CostRank  ...  \\\n",
      "0           49.0        16.0                          45.0  ...   \n",
      "1            8.0        13.0                          31.0  ...   \n",
      "2           12.0        26.0                          40.0  ...   \n",
      "3           43.0        18.0                          44.0  ...   \n",
      "4            1.0        20.0                          13.0  ...   \n",
      "\n",
      "   Voter Participation (Presidential) - Ages 65+ Rank  \\\n",
      "0                                               49.0    \n",
      "1                                               35.0    \n",
      "2                                                5.0    \n",
      "3                                               50.0    \n",
      "4                                               41.0    \n",
      "\n",
      "   Voter Participation (Presidential) - FemaleRank  \\\n",
      "0                                             47.0   \n",
      "1                                             38.0   \n",
      "2                                              5.0   \n",
      "3                                             49.0   \n",
      "4                                             33.0   \n",
      "\n",
      "   Voter Participation (Presidential) - MaleRank  \\\n",
      "0                                           46.0   \n",
      "1                                           36.0   \n",
      "2                                           16.0   \n",
      "3                                           50.0   \n",
      "4                                           29.0   \n",
      "\n",
      "   Voter Participation (Presidential) - WhiteRank  Water FluoridationRank  \\\n",
      "0                                            46.0                    23.0   \n",
      "1                                            23.0                    43.0   \n",
      "2                                             6.0                    37.0   \n",
      "3                                            49.0                    20.0   \n",
      "4                                             9.0                    36.0   \n",
      "\n",
      "   Percent Hispanic Or Latino  Percent White Not Hispanic Or Latino  \\\n",
      "0                         4.6                                  65.3   \n",
      "1                         7.3                                  60.2   \n",
      "2                        31.7                                  54.1   \n",
      "3                         7.8                                  72.0   \n",
      "4                        39.4                                  36.5   \n",
      "\n",
      "   Median Household Income  Population  % population affected  \n",
      "0                    50536     5039877               0.002298  \n",
      "1                    77640      732673               0.001032  \n",
      "2                    58945     7276316               0.002091  \n",
      "3                    47597     3025891               0.001797  \n",
      "4                    75235    39237836               0.001286  \n",
      "\n",
      "[5 rows x 243 columns]\n"
     ]
    }
   ],
   "source": [
    "#Create final table with all determined features \n",
    "from functools import reduce\n",
    "\n",
    "features = reduce(lambda left, right:     \n",
    "                     pd.merge(left , right,\n",
    "                              on = ['State']),\n",
    "                     [deaths_summed, health, macro, pop])\n",
    "\n",
    "print(features.head())"
   ]
  },
  {
   "cell_type": "code",
   "execution_count": 45,
   "id": "6974a6c0",
   "metadata": {},
   "outputs": [],
   "source": [
    "from sklearn.preprocessing import StandardScaler\n",
    "\n",
    "scaler = StandardScaler()\n",
    "scaler.fit(features.drop('State', axis=1))\n",
    "scaled_features = scaler.transform(features.drop('State', axis=1))\n",
    "scaled_data = pd.DataFrame(scaled_features, columns = features.drop('State', axis=1).columns)"
   ]
  },
  {
   "cell_type": "code",
   "execution_count": 46,
   "id": "2132ec1f",
   "metadata": {},
   "outputs": [
    {
     "name": "stdout",
     "output_type": "stream",
     "text": [
      "False\n",
      "True\n"
     ]
    },
    {
     "data": {
      "text/plain": [
       "index                                     int64\n",
       "Deaths                                  float64\n",
       "Access to Care - AnnualRank             float64\n",
       "Adverse Childhood ExperiencesRank       float64\n",
       "Air PollutionRank                       float64\n",
       "                                         ...   \n",
       "Percent Hispanic Or Latino              float64\n",
       "Percent White Not Hispanic Or Latino    float64\n",
       "Median Household Income                 float64\n",
       "Population                              float64\n",
       "% population affected                   float64\n",
       "Length: 243, dtype: object"
      ]
     },
     "execution_count": 46,
     "metadata": {},
     "output_type": "execute_result"
    }
   ],
   "source": [
    "#clean dataset so can run modeling \n",
    "scaled_data = scaled_data.replace([np.inf, -np.inf], np.nan)\n",
    "scaled_data = scaled_data.dropna()\n",
    "scaled_data = scaled_data.reset_index()\n",
    "print(np.any(np.isnan(scaled_data)))\n",
    "print(np.all(np.isfinite(scaled_data)))\n",
    "\n",
    "scaled_data.dtypes"
   ]
  },
  {
   "cell_type": "code",
   "execution_count": 47,
   "id": "63b43fb7",
   "metadata": {},
   "outputs": [],
   "source": [
    "scaled_data.to_csv('scaled_data.csv')"
   ]
  },
  {
   "cell_type": "code",
   "execution_count": null,
   "id": "00b02530",
   "metadata": {},
   "outputs": [],
   "source": [
    "# Does my data set have any categorical data, such as Gender or day of the week?\n",
    "# Do my features have data values that range from 0 - 100 or 0-1 or both and more?"
   ]
  }
 ],
 "metadata": {
  "kernelspec": {
   "display_name": "Python 3 (ipykernel)",
   "language": "python",
   "name": "python3"
  },
  "language_info": {
   "codemirror_mode": {
    "name": "ipython",
    "version": 3
   },
   "file_extension": ".py",
   "mimetype": "text/x-python",
   "name": "python",
   "nbconvert_exporter": "python",
   "pygments_lexer": "ipython3",
   "version": "3.9.12"
  }
 },
 "nbformat": 4,
 "nbformat_minor": 5
}
